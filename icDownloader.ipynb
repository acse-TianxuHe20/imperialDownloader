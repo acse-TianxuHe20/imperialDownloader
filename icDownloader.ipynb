{
 "cells": [
  {
   "cell_type": "code",
   "execution_count": 106,
   "metadata": {},
   "outputs": [
    {
     "name": "stdout",
     "output_type": "stream",
     "text": [
      "we have done 20 of 905\n",
      "we have done 40 of 905\n",
      "we have done 60 of 905\n",
      "we have done 80 of 905\n",
      "we have done 100 of 905\n",
      "we have done 120 of 905\n",
      "we have done 140 of 905\n",
      "we have done 160 of 905\n",
      "we have done 180 of 905\n",
      "we have done 200 of 905\n",
      "we have done 220 of 905\n",
      "we have done 240 of 905\n",
      "we have done 260 of 905\n",
      "we have done 280 of 905\n",
      "we have done 300 of 905\n",
      "we have done 320 of 905\n",
      "we have done 340 of 905\n",
      "we have done 360 of 905\n",
      "we have done 380 of 905\n",
      "we have done 400 of 905\n",
      "we have done 420 of 905\n",
      "we have done 440 of 905\n",
      "we have done 460 of 905\n",
      "we have done 480 of 905\n",
      "we have done 500 of 905\n",
      "we have done 520 of 905\n",
      "we have done 540 of 905\n",
      "we have done 560 of 905\n",
      "we have done 580 of 905\n",
      "we have done 600 of 905\n",
      "we have done 620 of 905\n",
      "we have done 640 of 905\n",
      "we have done 660 of 905\n",
      "we have done 680 of 905\n",
      "we have done 700 of 905\n",
      "we have done 720 of 905\n",
      "we have done 740 of 905\n",
      "we have done 760 of 905\n",
      "we have done 780 of 905\n",
      "we have done 800 of 905\n",
      "we have done 820 of 905\n",
      "we have done 840 of 905\n",
      "we have done 860 of 905\n",
      "we have done 880 of 905\n",
      "we have done 900 of 905\n"
     ]
    }
   ],
   "source": [
    "import requests\n",
    "import re\n",
    "import os\n",
    "\n",
    "headers = {\n",
    "    'User-Agent': 'Mozilla/5.0 (Windows NT 10.0; WOW64) AppleWebKit/537.36 (KHTML, like Gecko) Chrome/69.0.3497.100 Safari/537.36',\n",
    "    'Content-Range': 'bytes 0-xxxxxx',\n",
    "    'Referer': \"https://imperialcollegelondon.app.box.com/\"\n",
    "}\n",
    "my_session = requests.session()\n",
    "\n",
    "def toFile(url,path):\n",
    "    req_stream = my_session.get(url, stream=True, headers=headers)\n",
    "    file = open(path, \"wb\")\n",
    "    length = float(req_stream.headers['content-length'])\n",
    "    if req_stream:\n",
    "        for chunk in req_stream.iter_content(chunk_size=512):\n",
    "            if chunk:\n",
    "                file.write(chunk)\n",
    "    else:\n",
    "        print(\"Break at {}\".format(path))\n",
    "    file.close()\n",
    "\n",
    "    \n",
    "\n",
    "def downSeg(name_range,sample_link):\n",
    "    if 'audio' in sample_link:\n",
    "        print('Please input a video sample url.')\n",
    "        return None\n",
    "    if type(name_range) == str:\n",
    "        video_url = re.sub('\\d+.m4s','{}.m4s'.format(name_range),sample_link)\n",
    "        audio_url = re.sub('video/\\d+','audio/0',video_url)\n",
    "        \n",
    "        toFile(video_url,'./tmp/video/{}.m4s'.format(name_range))\n",
    "        toFile(audio_url,'./tmp/audio/{}.m4s'.format(name_range))\n",
    "    \n",
    "    else:\n",
    "        for i in range(name_range[0],name_range[1]+1):\n",
    "            if i%20==0:\n",
    "                print(\"we have done {} of {}\".format(i-name_range[0]+1,name_range[1]-name_range[0]+1))\n",
    "            video_url = re.sub('\\d+.m4s','{}.m4s'.format(i),sample_link)\n",
    "            audio_url = re.sub('video/\\d+','audio/0',video_url)\n",
    "            \n",
    "            toFile(video_url,'./tmp/video/{}.m4s'.format(i))\n",
    "            toFile(audio_url,'./tmp/audio/{}.m4s'.format(i))\n",
    "            \n",
    "\n",
    "sample_url = \"https://public.boxcloud.com/api/2.0/internal_files/729359309614/versions/776215563214/representations/dash/content/video/1080/1.m4s?access_token=1!LUGUK1je7x0LDWOLL8VJKT9kzpQVlhBcGeVfPmm3wICwXI8E1JfQANYAeEQ1bld3fGnCIvCTKznLIOGSRTru5U41D9bZi0Zy3mSmtRkOe6CRDaWQPshtUAe0Oh0rnF6Ajye5sr_s9rgbbARINK2KvE3bPkKLQX8cbKGnOeg9mZbIcd8LnZLwHv3mhn97OEtEJnbMK57qLlRqdC9P4wro17Q1YbqIszxFUR2Ude-Zbp1m58i5dhO3nYQtFaNxx_SPsEunh6okDPr829hdzvlwmZmpy91GvCX7LvmMfa55Kqcm_bBheL2wTvgkBi3bh8QaUFeeipPoR82thggPd7LFWBMAZXa4v3SPd2NRn8khe3NI6TDk6AxsIFAXvKDuG_qCuGKTcEc9xMA7-RZrFrxMHOxwuKJFxL9LqMrXqxswt-vDrnhmQSU5JJpXehF7kOMNkHRmPj4Ehm5LU_8itLNBrt2z1DIfElU0sgmcYRDc8wxS52VIzb874NCrfSVGuQMbFzsXOe58-kYoy7Z8D0YL7rMOMjl_4-STrcLrHwp3zH5CoQLKFqd06FJVpZPtUXg.&shared_link=https%3A%2F%2Fimperialcollegelondon.app.box.com%2Fs%2F50j37tn2mpgdmzx4n581i3kh01r7mjoa&box_client_name=box-content-preview&box_client_version=2.52.0\"\n",
    "\n",
    "\n",
    "downSeg('init',sample_url)\n",
    "downSeg((1,905),sample_url)"
   ]
  },
  {
   "cell_type": "code",
   "execution_count": 107,
   "metadata": {},
   "outputs": [
    {
     "data": {
      "text/plain": [
       "0"
      ]
     },
     "execution_count": 107,
     "metadata": {},
     "output_type": "execute_result"
    }
   ],
   "source": [
    "\n",
    "if os.path.exists('./tmp/audio/all.m4s'):\n",
    "    os.remove('./tmp/audio/all.m4s')\n",
    "if os.path.exists('./tmp/audio/all.m4a'):\n",
    "    os.remove('./tmp/audio/all.m4a')\n",
    "    \n",
    "os.system('cat ./tmp/audio/init.m4s >> ./tmp/audio/all.m4s')\n",
    "for i in range(1,905+1):\n",
    "    os.system('cat ./tmp/audio/{}.m4s >> ./tmp/audio/all.m4s'.format(i))\n",
    "\n",
    "\n",
    "os.system('ffmpeg -i ./tmp/audio/all.m4s ./tmp/audio/all.m4a')"
   ]
  },
  {
   "cell_type": "code",
   "execution_count": 108,
   "metadata": {},
   "outputs": [
    {
     "data": {
      "text/plain": [
       "0"
      ]
     },
     "execution_count": 108,
     "metadata": {},
     "output_type": "execute_result"
    }
   ],
   "source": [
    "if os.path.exists('./tmp/video/all.m4s'):\n",
    "    os.remove('./tmp/video/all.m4s')\n",
    "if os.path.exists('./tmp/video/all.mp4'):\n",
    "    os.remove('./tmp/video/all.mp4')\n",
    "    \n",
    "os.system('cat ./tmp/video/init.m4s >> ./tmp/video/all.m4s')\n",
    "for i in range(1,905+1):\n",
    "    os.system('cat ./tmp/video/{}.m4s >> ./tmp/video/all.m4s'.format(i))\n",
    "    \n",
    "os.system('ffmpeg -i ./tmp/video/all.m4s ./tmp/video/all.mp4')"
   ]
  },
  {
   "cell_type": "code",
   "execution_count": 109,
   "metadata": {},
   "outputs": [
    {
     "data": {
      "text/plain": [
       "0"
      ]
     },
     "execution_count": 109,
     "metadata": {},
     "output_type": "execute_result"
    }
   ],
   "source": [
    "if os.path.exists('./tmp/output.mp4'):\n",
    "    os.remove('./tmp/output.mp4')\n",
    "\n",
    "os.system('ffmpeg -i ./tmp/video/all.mp4 -i ./tmp/audio/all.m4a -vcodec copy -acodec copy ./tmp/output.mp4')"
   ]
  },
  {
   "cell_type": "code",
   "execution_count": null,
   "metadata": {},
   "outputs": [],
   "source": []
  }
 ],
 "metadata": {
  "kernelspec": {
   "display_name": "Python 3",
   "language": "python",
   "name": "python3"
  },
  "language_info": {
   "codemirror_mode": {
    "name": "ipython",
    "version": 3
   },
   "file_extension": ".py",
   "mimetype": "text/x-python",
   "name": "python",
   "nbconvert_exporter": "python",
   "pygments_lexer": "ipython3",
   "version": "3.6.3"
  }
 },
 "nbformat": 4,
 "nbformat_minor": 4
}
